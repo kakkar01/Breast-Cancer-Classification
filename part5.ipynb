{
 "cells": [
  {
   "cell_type": "markdown",
   "metadata": {},
   "source": [
    "## Part 5 and 6"
   ]
  },
  {
   "cell_type": "code",
   "execution_count": 2,
   "metadata": {},
   "outputs": [],
   "source": [
    "import pandas as pd\n",
    "import numpy as np"
   ]
  },
  {
   "cell_type": "code",
   "execution_count": 3,
   "metadata": {},
   "outputs": [
    {
     "data": {
      "text/plain": [
       "diagnosis\n",
       "False    357\n",
       "True     212\n",
       "Name: count, dtype: int64"
      ]
     },
     "execution_count": 3,
     "metadata": {},
     "output_type": "execute_result"
    }
   ],
   "source": [
    "df = pd.read_csv('breast_cancer_data.csv')\n",
    "\n",
    "df.drop(columns='id')\n",
    "\n",
    "X = df.drop(columns='diagnosis')\n",
    "y = df['diagnosis'] == 'M'\n",
    "\n",
    "y.value_counts()"
   ]
  },
  {
   "cell_type": "markdown",
   "metadata": {},
   "source": [
    "5. Use GridSearchCV to tune the parameter of each of the above models. Can\n",
    "you obtain better results in this step for any of the models? Discuss your\n",
    "observations."
   ]
  },
  {
   "cell_type": "code",
   "execution_count": 4,
   "metadata": {},
   "outputs": [
    {
     "name": "stderr",
     "output_type": "stream",
     "text": [
      "/home/franciscoyira/.local/lib/python3.8/site-packages/scipy/__init__.py:146: UserWarning: A NumPy version >=1.16.5 and <1.23.0 is required for this version of SciPy (detected version 1.24.4\n",
      "  warnings.warn(f\"A NumPy version >={np_minversion} and <{np_maxversion}\"\n"
     ]
    }
   ],
   "source": [
    "from sklearn.model_selection import train_test_split\n",
    "X_train, X_test, y_train, y_test = train_test_split(X, y, test_size=0.2, random_state=42)"
   ]
  },
  {
   "cell_type": "code",
   "execution_count": 5,
   "metadata": {},
   "outputs": [],
   "source": [
    "from sklearn.linear_model import LogisticRegression, SGDClassifier\n",
    "from sklearn.svm import SVC\n",
    "from sklearn.tree import DecisionTreeClassifier\n",
    "from sklearn.ensemble import RandomForestClassifier\n",
    "from sklearn.metrics import classification_report, accuracy_score"
   ]
  },
  {
   "cell_type": "markdown",
   "metadata": {},
   "source": [
    "Defining the parameter grids to tune each model:"
   ]
  },
  {
   "cell_type": "code",
   "execution_count": 6,
   "metadata": {},
   "outputs": [],
   "source": [
    "from sklearn.model_selection import GridSearchCV\n",
    "\n",
    "# Defining a dictionary with all the models\n",
    "models = {\n",
    "    'Logistic Regression': LogisticRegression(),\n",
    "    'Decision Tree': DecisionTreeClassifier(),\n",
    "    'Random Forest': RandomForestClassifier(),\n",
    "    'SGD': SGDClassifier(),\n",
    "    'SVM': SVC()\n",
    "}\n",
    "\n",
    "# Defining a parameter grid for each model\n",
    "param_grid = {\n",
    "    # Regularisation strength\n",
    "    'Logistic Regression': {'C': [0.01, 0.1, 1, 10, 100]},\n",
    "\n",
    "    # Max depth, associated with flexibility of the model\n",
    "    'Decision Tree': {'max_depth': [None, 10, 20, 30, 40, 50]},\n",
    "\n",
    "    # N_estimators (number of trees to use)\n",
    "    'Random Forest': {'n_estimators': [10, 50, 100, 200]},\n",
    "\n",
    "    # alpha: multiplier of the regularisaiton term\n",
    "    'SGD': {'alpha': [0.0001, 0.001, 0.01, 0.1]},\n",
    "    \n",
    "    'SVM': {\n",
    "        # Regularisation parameter\n",
    "        'C': [0.01, 0.1, 1, 10, 100],\n",
    "        # Kernel to use\n",
    "        'kernel': ['linear', 'rbf']}\n",
    "}"
   ]
  },
  {
   "cell_type": "markdown",
   "metadata": {},
   "source": [
    "After having defined the parameter grid, we can run a loop across the models to tune each of them, and take a look at the resuls:"
   ]
  },
  {
   "cell_type": "code",
   "execution_count": 7,
   "metadata": {},
   "outputs": [],
   "source": [
    "# Performing Grid Search for each model\n",
    "for model_name, model in models.items():\n",
    "    # Running the Grid Search (fitting it to the data)\n",
    "    print(f\"Working on model: {model_name}\")\n",
    "    grid_search = GridSearchCV(model, param_grid[model_name], cv=5, scoring='accuracy')\n",
    "    grid_search.fit(X_train, y_train)\n",
    "    \n",
    "    # Best parameters and best score\n",
    "    print(f\"Best Parameters for {model_name}: {grid_search.best_params_}\")\n",
    "    print(f\"Best Score for {model_name}: {grid_search.best_score_}\")\n",
    "\n",
    "    # Evaluate on the test set\n",
    "    y_pred = grid_search.predict(X_test)\n",
    "    print(f\"Classification Report for {model_name}:\\n{classification_report(y_test, y_pred)}\")\n",
    "    print(f\"Accuracy for {model_name}: {accuracy_score(y_test, y_pred)}\\n\")\n"
   ]
  },
  {
   "cell_type": "markdown",
   "metadata": {},
   "source": [
    "\n",
    "\n",
    "6. Randomly (or based on certain hypothesis) remove some features and\n",
    "re-evaluate the models. Document your observations with respect to models\n",
    "performances."
   ]
  }
 ],
 "metadata": {
  "kernelspec": {
   "display_name": "Python 3",
   "language": "python",
   "name": "python3"
  },
  "language_info": {
   "codemirror_mode": {
    "name": "ipython",
    "version": 3
   },
   "file_extension": ".py",
   "mimetype": "text/x-python",
   "name": "python",
   "nbconvert_exporter": "python",
   "pygments_lexer": "ipython3",
   "version": "3.8.10"
  }
 },
 "nbformat": 4,
 "nbformat_minor": 2
}
