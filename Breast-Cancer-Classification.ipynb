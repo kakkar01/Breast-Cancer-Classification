{
 "cells": [
  {
   "cell_type": "code",
   "execution_count": null,
   "id": "initial_id",
   "metadata": {
    "collapsed": true
   },
   "outputs": [],
   "source": [
    "from sklearn.linear_model import LogisticRegression\n",
    "from sklearn.pipeline import Pipeline\n",
    "from sklearn.impute import SimpleImputer\n",
    "from sklearn.metrics import accuracy_score\n",
    "from sklearn.preprocessing import StandardScaler\n",
    "from sklearn.model_selection import RepeatedStratifiedKFold, cross_val_score\n",
    "import numpy as np\n",
    "import pandas as pd \n",
    "import matplotlib.pyplot as plt\n",
    "import seaborn as sns"
   ]
  },
  {
   "cell_type": "code",
   "outputs": [],
   "source": [
    "df=pd.read_csv(r\"breast_cancer_data.csv\")\n",
    "df.head()"
   ],
   "metadata": {
    "collapsed": false
   },
   "id": "f1fc291f782f07fb"
  },
  {
   "cell_type": "code",
   "outputs": [],
   "source": [
    "df.shape"
   ],
   "metadata": {
    "collapsed": false
   },
   "id": "7ee83fe2d3c74574"
  },
  {
   "cell_type": "code",
   "outputs": [],
   "source": [
    "df.isnull().sum().sum()"
   ],
   "metadata": {
    "collapsed": false
   },
   "id": "eef50545942a592b"
  },
  {
   "cell_type": "code",
   "outputs": [],
   "source": [
    "df.dtypes"
   ],
   "metadata": {
    "collapsed": false
   },
   "id": "cd07b40fcf7f68d6"
  },
  {
   "cell_type": "code",
   "outputs": [],
   "source": [
    "df.describe()"
   ],
   "metadata": {
    "collapsed": false
   },
   "id": "d269596a7a2806dc"
  },
  {
   "cell_type": "code",
   "outputs": [],
   "source": [
    "df.drop(['id'],axis=1,inplace=True) # Column id doesn't give any information\n",
    "df.shape #col-=1"
   ],
   "metadata": {
    "collapsed": false
   },
   "id": "ee42b3748c83f2cc"
  },
  {
   "cell_type": "code",
   "outputs": [],
   "source": [
    "df[['radius_mean','perimeter_mean','area_mean']]"
   ],
   "metadata": {
    "collapsed": false
   },
   "id": "feac18389725d26"
  },
  {
   "cell_type": "code",
   "outputs": [],
   "source": [
    "df_temp = df.drop(['diagnosis'], axis=1)\n",
    "plt.figure(figsize=(20, 15))\n",
    "sns.heatmap(df_temp.corr(), annot=True)  ##visualizing relationships or patterns in a dataset\n",
    "plt.show()"
   ],
   "metadata": {
    "collapsed": false
   },
   "id": "1c7fe084ed178e06"
  },
  {
   "cell_type": "code",
   "outputs": [],
   "source": [
    "corr_coeff = df['smoothness_mean'].corr(df['smoothness_worst'])\n",
    "print(f\"Pearson correlation coefficient between 'smoothness_mean', 'smoothness_worst' is : {corr_coeff}\")"
   ],
   "metadata": {
    "collapsed": false
   },
   "id": "97724502278fece5"
  },
  {
   "cell_type": "code",
   "outputs": [],
   "source": [
    "print(f\"Pearson correlation coefficient between 'smoothness_mean', 'smoothness_worst' is : {corr_coeff}\")\n",
    "corr_coeff = df['radius_mean'].corr(df['radius_worst'])\n",
    "print(f\"Pearson correlation coefficient between 'radius_mean', 'radius_worst' is : {corr_coeff}\")"
   ],
   "metadata": {
    "collapsed": false
   },
   "id": "1757d9c2c9cda5d2"
  },
  {
   "cell_type": "code",
   "outputs": [],
   "source": [
    "df['diagnosis']"
   ],
   "metadata": {
    "collapsed": false
   },
   "id": "1df1718dfd10e7e0"
  },
  {
   "cell_type": "code",
   "outputs": [],
   "source": [
    "sns.set(style=\"whitegrid\")\n",
    "plt.figure(figsize=(8, 6))\n",
    "sns.countplot(x='diagnosis', data=df, palette='Set3')\n",
    "\n",
    "plt.title('Distribution of Diagnosis')\n",
    "plt.xlabel('Diagnosis')\n",
    "plt.ylabel('Count')\n",
    "\n",
    "# Display the count values on top of the bars\n",
    "for p in plt.gca().patches:\n",
    "    plt.gca().annotate(f'{p.get_height()}', (p.get_x() + p.get_width() / 2., p.get_height()),\n",
    "                       ha='center', va='center', xytext=(0, 10), textcoords='offset points')\n",
    "\n",
    "plt.show()"
   ],
   "metadata": {
    "collapsed": false
   },
   "id": "523a44f31f7cd026"
  },
  {
   "cell_type": "code",
   "outputs": [],
   "source": [
    "#Logistic Regression \n",
    "#Missing Data waiting for preprocessing\n",
    "X = df[df.columns[:-1]]\n",
    "y = df[df.columns[-1]]\n",
    "#Set up the pipeline\n",
    "#Imputer to add missing data\n",
    "#Scalar to avoid giving a feature too much decision power. \n",
    "#And the classifier in this case Logistic regression\n",
    "pipeline_lg = Pipeline([('imputer', SimpleImputer(missing_values=np.nan, strategy='mean')),\n",
    "                         ('scalar', StandardScaler()),\n",
    "                         ('classifier', LogisticRegression(max_iter=100000))\n",
    "                         ])\n",
    "#Cross valuation to split the dataset into training and testing\n",
    "cv = RepeatedStratifiedKFold(n_splits=10, n_repeats=3, random_state=1)\n",
    "#Results of the score, evaluating the model against the known labels. \n",
    "scores_lg = cross_val_score(pipeline_lg, X, y, cv=cv, scoring='accuracy', n_jobs=-1)"
   ],
   "metadata": {
    "collapsed": false
   },
   "id": "4cae5cc85e13b436"
  },
  {
   "cell_type": "code",
   "outputs": [],
   "source": [
    "scores_lg"
   ],
   "metadata": {
    "collapsed": false
   },
   "id": "2d18d35823f8276d"
  },
  {
   "cell_type": "code",
   "outputs": [],
   "source": [
    "#Decision Tree\n",
    "from sklearn.tree import DecisionTreeClassifier\n",
    "\n",
    "#In decision tree we must set the max depth to avoid over fitting, just to start it has been set to 20\n",
    "#Max_depth could be reduced or increase depending on the results \n",
    "pipeline_dt = Pipeline([('imputer', SimpleImputer(missing_values=np.nan, strategy='mean')),\n",
    "                         ('scalar', StandardScaler()),\n",
    "                         ('classifier', DecisionTreeClassifier(max_depth=20))\n",
    "                         ])\n",
    "cv = RepeatedStratifiedKFold(n_splits=10, n_repeats=3, random_state=1)\n",
    "scores_dt = cross_val_score(pipeline_dt, X, y, cv=cv, scoring='accuracy', n_jobs=-1)"
   ],
   "metadata": {
    "collapsed": false
   },
   "id": "f54714512c81a2f1"
  },
  {
   "cell_type": "code",
   "outputs": [],
   "source": [
    "scores_dt"
   ],
   "metadata": {
    "collapsed": false
   },
   "id": "5ffd4a2d021fb2dd"
  },
  {
   "cell_type": "code",
   "outputs": [],
   "source": [],
   "metadata": {
    "collapsed": false
   },
   "id": "bf8fdfd32b9c1911"
  }
 ],
 "metadata": {
  "kernelspec": {
   "display_name": "Python 3",
   "language": "python",
   "name": "python3"
  },
  "language_info": {
   "codemirror_mode": {
    "name": "ipython",
    "version": 2
   },
   "file_extension": ".py",
   "mimetype": "text/x-python",
   "name": "python",
   "nbconvert_exporter": "python",
   "pygments_lexer": "ipython2",
   "version": "2.7.6"
  }
 },
 "nbformat": 4,
 "nbformat_minor": 5
}
