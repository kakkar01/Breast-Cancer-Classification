{
 "cells": [
  {
   "cell_type": "code",
   "execution_count": 1,
   "id": "initial_id",
   "metadata": {
    "collapsed": true,
    "ExecuteTime": {
     "end_time": "2024-01-31T19:07:50.780890800Z",
     "start_time": "2024-01-31T19:07:50.101255400Z"
    }
   },
   "outputs": [],
   "source": [
    "from sklearn.linear_model import LogisticRegression\n",
    "from sklearn.pipeline import Pipeline\n",
    "from sklearn.impute import SimpleImputer\n",
    "from sklearn.metrics import accuracy_score\n",
    "from sklearn.preprocessing import StandardScaler\n",
    "from sklearn.model_selection import RepeatedStratifiedKFold, cross_val_score\n",
    "import numpy as np\n",
    "import pandas as pd \n",
    "import matplotlib.pyplot as plt\n",
    "import seaborn as sns"
   ]
  },
  {
   "cell_type": "code",
   "outputs": [
    {
     "data": {
      "text/plain": "         id diagnosis  radius_mean  texture_mean  perimeter_mean  area_mean  \\\n0    842302         M        17.99         10.38          122.80     1001.0   \n1    842517         M        20.57         17.77          132.90     1326.0   \n2  84300903         M        19.69         21.25          130.00     1203.0   \n3  84348301         M        11.42         20.38           77.58      386.1   \n4  84358402         M        20.29         14.34          135.10     1297.0   \n\n   smoothness_mean  compactness_mean  concavity_mean  concave_points_mean  \\\n0          0.11840           0.27760          0.3001              0.14710   \n1          0.08474           0.07864          0.0869              0.07017   \n2          0.10960           0.15990          0.1974              0.12790   \n3          0.14250           0.28390          0.2414              0.10520   \n4          0.10030           0.13280          0.1980              0.10430   \n\n   ...  radius_worst  texture_worst  perimeter_worst  area_worst  \\\n0  ...         25.38          17.33           184.60      2019.0   \n1  ...         24.99          23.41           158.80      1956.0   \n2  ...         23.57          25.53           152.50      1709.0   \n3  ...         14.91          26.50            98.87       567.7   \n4  ...         22.54          16.67           152.20      1575.0   \n\n   smoothness_worst  compactness_worst  concavity_worst  concave_points_worst  \\\n0            0.1622             0.6656           0.7119                0.2654   \n1            0.1238             0.1866           0.2416                0.1860   \n2            0.1444             0.4245           0.4504                0.2430   \n3            0.2098             0.8663           0.6869                0.2575   \n4            0.1374             0.2050           0.4000                0.1625   \n\n   symmetry_worst  fractal_dimension_worst  \n0          0.4601                  0.11890  \n1          0.2750                  0.08902  \n2          0.3613                  0.08758  \n3          0.6638                  0.17300  \n4          0.2364                  0.07678  \n\n[5 rows x 32 columns]",
      "text/html": "<div>\n<style scoped>\n    .dataframe tbody tr th:only-of-type {\n        vertical-align: middle;\n    }\n\n    .dataframe tbody tr th {\n        vertical-align: top;\n    }\n\n    .dataframe thead th {\n        text-align: right;\n    }\n</style>\n<table border=\"1\" class=\"dataframe\">\n  <thead>\n    <tr style=\"text-align: right;\">\n      <th></th>\n      <th>id</th>\n      <th>diagnosis</th>\n      <th>radius_mean</th>\n      <th>texture_mean</th>\n      <th>perimeter_mean</th>\n      <th>area_mean</th>\n      <th>smoothness_mean</th>\n      <th>compactness_mean</th>\n      <th>concavity_mean</th>\n      <th>concave_points_mean</th>\n      <th>...</th>\n      <th>radius_worst</th>\n      <th>texture_worst</th>\n      <th>perimeter_worst</th>\n      <th>area_worst</th>\n      <th>smoothness_worst</th>\n      <th>compactness_worst</th>\n      <th>concavity_worst</th>\n      <th>concave_points_worst</th>\n      <th>symmetry_worst</th>\n      <th>fractal_dimension_worst</th>\n    </tr>\n  </thead>\n  <tbody>\n    <tr>\n      <th>0</th>\n      <td>842302</td>\n      <td>M</td>\n      <td>17.99</td>\n      <td>10.38</td>\n      <td>122.80</td>\n      <td>1001.0</td>\n      <td>0.11840</td>\n      <td>0.27760</td>\n      <td>0.3001</td>\n      <td>0.14710</td>\n      <td>...</td>\n      <td>25.38</td>\n      <td>17.33</td>\n      <td>184.60</td>\n      <td>2019.0</td>\n      <td>0.1622</td>\n      <td>0.6656</td>\n      <td>0.7119</td>\n      <td>0.2654</td>\n      <td>0.4601</td>\n      <td>0.11890</td>\n    </tr>\n    <tr>\n      <th>1</th>\n      <td>842517</td>\n      <td>M</td>\n      <td>20.57</td>\n      <td>17.77</td>\n      <td>132.90</td>\n      <td>1326.0</td>\n      <td>0.08474</td>\n      <td>0.07864</td>\n      <td>0.0869</td>\n      <td>0.07017</td>\n      <td>...</td>\n      <td>24.99</td>\n      <td>23.41</td>\n      <td>158.80</td>\n      <td>1956.0</td>\n      <td>0.1238</td>\n      <td>0.1866</td>\n      <td>0.2416</td>\n      <td>0.1860</td>\n      <td>0.2750</td>\n      <td>0.08902</td>\n    </tr>\n    <tr>\n      <th>2</th>\n      <td>84300903</td>\n      <td>M</td>\n      <td>19.69</td>\n      <td>21.25</td>\n      <td>130.00</td>\n      <td>1203.0</td>\n      <td>0.10960</td>\n      <td>0.15990</td>\n      <td>0.1974</td>\n      <td>0.12790</td>\n      <td>...</td>\n      <td>23.57</td>\n      <td>25.53</td>\n      <td>152.50</td>\n      <td>1709.0</td>\n      <td>0.1444</td>\n      <td>0.4245</td>\n      <td>0.4504</td>\n      <td>0.2430</td>\n      <td>0.3613</td>\n      <td>0.08758</td>\n    </tr>\n    <tr>\n      <th>3</th>\n      <td>84348301</td>\n      <td>M</td>\n      <td>11.42</td>\n      <td>20.38</td>\n      <td>77.58</td>\n      <td>386.1</td>\n      <td>0.14250</td>\n      <td>0.28390</td>\n      <td>0.2414</td>\n      <td>0.10520</td>\n      <td>...</td>\n      <td>14.91</td>\n      <td>26.50</td>\n      <td>98.87</td>\n      <td>567.7</td>\n      <td>0.2098</td>\n      <td>0.8663</td>\n      <td>0.6869</td>\n      <td>0.2575</td>\n      <td>0.6638</td>\n      <td>0.17300</td>\n    </tr>\n    <tr>\n      <th>4</th>\n      <td>84358402</td>\n      <td>M</td>\n      <td>20.29</td>\n      <td>14.34</td>\n      <td>135.10</td>\n      <td>1297.0</td>\n      <td>0.10030</td>\n      <td>0.13280</td>\n      <td>0.1980</td>\n      <td>0.10430</td>\n      <td>...</td>\n      <td>22.54</td>\n      <td>16.67</td>\n      <td>152.20</td>\n      <td>1575.0</td>\n      <td>0.1374</td>\n      <td>0.2050</td>\n      <td>0.4000</td>\n      <td>0.1625</td>\n      <td>0.2364</td>\n      <td>0.07678</td>\n    </tr>\n  </tbody>\n</table>\n<p>5 rows × 32 columns</p>\n</div>"
     },
     "execution_count": 2,
     "metadata": {},
     "output_type": "execute_result"
    }
   ],
   "source": [
    "df=pd.read_csv(r\"breast_cancer_data.csv\")\n",
    "df.head()"
   ],
   "metadata": {
    "collapsed": false,
    "ExecuteTime": {
     "end_time": "2024-01-31T19:07:50.848044300Z",
     "start_time": "2024-01-31T19:07:50.777365300Z"
    }
   },
   "id": "f1fc291f782f07fb",
   "execution_count": 2
  },
  {
   "cell_type": "code",
   "outputs": [],
   "source": [
    "df.shape"
   ],
   "metadata": {
    "collapsed": false
   },
   "id": "7ee83fe2d3c74574"
  },
  {
   "cell_type": "code",
   "outputs": [],
   "source": [
    "df.isnull().sum().sum()"
   ],
   "metadata": {
    "collapsed": false
   },
   "id": "eef50545942a592b"
  },
  {
   "cell_type": "code",
   "outputs": [],
   "source": [
    "df.dtypes"
   ],
   "metadata": {
    "collapsed": false
   },
   "id": "cd07b40fcf7f68d6"
  },
  {
   "cell_type": "code",
   "outputs": [],
   "source": [
    "df.describe()"
   ],
   "metadata": {
    "collapsed": false
   },
   "id": "d269596a7a2806dc"
  },
  {
   "cell_type": "code",
   "outputs": [],
   "source": [
    "df.drop(['id'],axis=1,inplace=True) # Column id doesn't give any information\n",
    "df.shape #col-=1"
   ],
   "metadata": {
    "collapsed": false
   },
   "id": "ee42b3748c83f2cc"
  },
  {
   "cell_type": "code",
   "outputs": [],
   "source": [
    "df[['radius_mean','perimeter_mean','area_mean']]"
   ],
   "metadata": {
    "collapsed": false
   },
   "id": "feac18389725d26"
  },
  {
   "cell_type": "code",
   "outputs": [],
   "source": [
    "df_temp = df.drop(['diagnosis'], axis=1)\n",
    "plt.figure(figsize=(20, 15))\n",
    "sns.heatmap(df_temp.corr(), annot=True)  ##visualizing relationships or patterns in a dataset\n",
    "plt.show()"
   ],
   "metadata": {
    "collapsed": false
   },
   "id": "1c7fe084ed178e06"
  },
  {
   "cell_type": "code",
   "outputs": [],
   "source": [
    "corr_coeff = df['smoothness_mean'].corr(df['smoothness_worst'])\n",
    "print(f\"Pearson correlation coefficient between 'smoothness_mean', 'smoothness_worst' is : {corr_coeff}\")"
   ],
   "metadata": {
    "collapsed": false
   },
   "id": "97724502278fece5"
  },
  {
   "cell_type": "code",
   "outputs": [],
   "source": [
    "print(f\"Pearson correlation coefficient between 'smoothness_mean', 'smoothness_worst' is : {corr_coeff}\")\n",
    "corr_coeff = df['radius_mean'].corr(df['radius_worst'])\n",
    "print(f\"Pearson correlation coefficient between 'radius_mean', 'radius_worst' is : {corr_coeff}\")"
   ],
   "metadata": {
    "collapsed": false
   },
   "id": "1757d9c2c9cda5d2"
  },
  {
   "cell_type": "code",
   "outputs": [],
   "source": [
    "df['diagnosis']"
   ],
   "metadata": {
    "collapsed": false
   },
   "id": "1df1718dfd10e7e0"
  },
  {
   "cell_type": "code",
   "outputs": [],
   "source": [
    "sns.set(style=\"whitegrid\")\n",
    "plt.figure(figsize=(8, 6))\n",
    "sns.countplot(x='diagnosis', data=df, palette='Set3')\n",
    "\n",
    "plt.title('Distribution of Diagnosis')\n",
    "plt.xlabel('Diagnosis')\n",
    "plt.ylabel('Count')\n",
    "\n",
    "# Display the count values on top of the bars\n",
    "for p in plt.gca().patches:\n",
    "    plt.gca().annotate(f'{p.get_height()}', (p.get_x() + p.get_width() / 2., p.get_height()),\n",
    "                       ha='center', va='center', xytext=(0, 10), textcoords='offset points')\n",
    "\n",
    "plt.show()"
   ],
   "metadata": {
    "collapsed": false
   },
   "id": "523a44f31f7cd026"
  },
  {
   "cell_type": "code",
   "outputs": [],
   "source": [
    "#Logistic Regression \n",
    "#Missing Data waiting for preprocessing\n",
    "df_x = df.drop(df['diagnosis'], axis=1)\n",
    "X = df_x\n",
    "y = df['diagnosis']\n",
    "#Set up the pipeline\n",
    "#Imputer to add missing data\n",
    "#Scalar to avoid giving a feature too much decision power. \n",
    "#And the classifier in this case Logistic regression\n",
    "pipeline_lg = Pipeline([('imputer', SimpleImputer(missing_values=np.nan, strategy='mean')),\n",
    "                         ('scalar', StandardScaler()),\n",
    "                         ('classifier', LogisticRegression(max_iter=100000))\n",
    "                         ])\n",
    "#Cross valuation to split the dataset into training and testing\n",
    "cv = RepeatedStratifiedKFold(n_splits=10, n_repeats=3, random_state=1)\n",
    "#Results of the score, evaluating the model against the known labels. \n",
    "scores_lg = cross_val_score(pipeline_lg, X, y, cv=cv, scoring='accuracy', n_jobs=-1)"
   ],
   "metadata": {
    "collapsed": false
   },
   "id": "4cae5cc85e13b436"
  },
  {
   "cell_type": "code",
   "outputs": [],
   "source": [
    "scores_lg"
   ],
   "metadata": {
    "collapsed": false
   },
   "id": "2d18d35823f8276d"
  },
  {
   "cell_type": "code",
   "outputs": [],
   "source": [
    "#Decision Tree\n",
    "from sklearn.tree import DecisionTreeClassifier\n",
    "\n",
    "#In decision tree we must set the max depth to avoid over fitting, just to start it has been set to 20\n",
    "#Max_depth could be reduced or increase depending on the results \n",
    "pipeline_dt = Pipeline([('imputer', SimpleImputer(missing_values=np.nan, strategy='mean')),\n",
    "                         ('scalar', StandardScaler()),\n",
    "                         ('classifier', DecisionTreeClassifier(max_depth=20))\n",
    "                         ])\n",
    "cv = RepeatedStratifiedKFold(n_splits=10, n_repeats=3, random_state=1)\n",
    "scores_dt = cross_val_score(pipeline_dt, X, y, cv=cv, scoring='accuracy', n_jobs=-1)"
   ],
   "metadata": {
    "collapsed": false
   },
   "id": "f54714512c81a2f1"
  },
  {
   "cell_type": "code",
   "outputs": [],
   "source": [
    "scores_dt"
   ],
   "metadata": {
    "collapsed": false
   },
   "id": "5ffd4a2d021fb2dd"
  },
  {
   "cell_type": "code",
   "outputs": [],
   "source": [],
   "metadata": {
    "collapsed": false
   },
   "id": "bf8fdfd32b9c1911"
  }
 ],
 "metadata": {
  "kernelspec": {
   "display_name": "Python 3",
   "language": "python",
   "name": "python3"
  },
  "language_info": {
   "codemirror_mode": {
    "name": "ipython",
    "version": 2
   },
   "file_extension": ".py",
   "mimetype": "text/x-python",
   "name": "python",
   "nbconvert_exporter": "python",
   "pygments_lexer": "ipython2",
   "version": "2.7.6"
  }
 },
 "nbformat": 4,
 "nbformat_minor": 5
}
