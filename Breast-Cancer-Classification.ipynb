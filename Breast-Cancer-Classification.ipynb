{
 "cells": [
  {
   "cell_type": "code",
   "execution_count": null,
   "id": "initial_id",
   "metadata": {
    "collapsed": true
   },
   "outputs": [],
   "source": [
    "from sklearn.linear_model import LogisticRegression\n",
    "from sklearn.pipeline import Pipeline\n",
    "from sklearn.impute import SimpleImputer\n",
    "from sklearn.metrics import accuracy_score\n",
    "from sklearn.preprocessing import StandardScaler\n",
    "from sklearn.model_selection import RepeatedStratifiedKFold, cross_val_score\n",
    "import numpy as np"
   ]
  },
  {
   "cell_type": "code",
   "outputs": [],
   "source": [
    "#Logistic Regression \n",
    "#Missing Data waiting for preprocessing\n",
    "X = []\n",
    "y = []\n",
    "#Set up the pipeline\n",
    "#Imputer to add missing data\n",
    "#Scalar to avoid giving a feature too much decision power. \n",
    "#And the classifier in this case Logistic regression\n",
    "pipeline_lg = Pipeline([('imputer', SimpleImputer(missing_values=np.nan, strategy='mean')),\n",
    "                         ('scalar', StandardScaler()),\n",
    "                         ('classifier', LogisticRegression(max_iter=100000))\n",
    "                         ])\n",
    "#Cross valuation to split the dataset into training and testing\n",
    "cv = RepeatedStratifiedKFold(n_splits=10, n_repeats=3, random_state=1)\n",
    "#Results of the score, evaluating the model against the known labels. \n",
    "scores_lg = cross_val_score(pipeline_lg, X, y, cv=cv, scoring='accuracy', n_jobs=-1)"
   ],
   "metadata": {
    "collapsed": false
   },
   "id": "4cae5cc85e13b436"
  },
  {
   "cell_type": "code",
   "outputs": [],
   "source": [
    "scores_lg"
   ],
   "metadata": {
    "collapsed": false
   },
   "id": "2d18d35823f8276d"
  },
  {
   "cell_type": "code",
   "outputs": [],
   "source": [
    "#Decision Tree\n",
    "from sklearn.tree import DecisionTreeClassifier\n",
    "\n",
    "#In decision tree we must set the max depth to avoid over fitting, just to start it has been set to 20\n",
    "#Max_depth could be reduced or increase depending on the results \n",
    "pipeline_dt = Pipeline([('imputer', SimpleImputer(missing_values=np.nan, strategy='mean')),\n",
    "                         ('scalar', StandardScaler()),\n",
    "                         ('classifier', DecisionTreeClassifier(max_depth=20))\n",
    "                         ])\n",
    "cv = RepeatedStratifiedKFold(n_splits=10, n_repeats=3, random_state=1)\n",
    "scores_dt = cross_val_score(pipeline_dt, X, y, cv=cv, scoring='accuracy', n_jobs=-1)"
   ],
   "metadata": {
    "collapsed": false
   },
   "id": "f54714512c81a2f1"
  },
  {
   "cell_type": "code",
   "outputs": [],
   "source": [
    "scores_dt"
   ],
   "metadata": {
    "collapsed": false
   },
   "id": "5ffd4a2d021fb2dd"
  },
  {
   "cell_type": "code",
   "outputs": [],
   "source": [],
   "metadata": {
    "collapsed": false
   },
   "id": "bf8fdfd32b9c1911"
  }
 ],
 "metadata": {
  "kernelspec": {
   "display_name": "Python 3",
   "language": "python",
   "name": "python3"
  },
  "language_info": {
   "codemirror_mode": {
    "name": "ipython",
    "version": 2
   },
   "file_extension": ".py",
   "mimetype": "text/x-python",
   "name": "python",
   "nbconvert_exporter": "python",
   "pygments_lexer": "ipython2",
   "version": "2.7.6"
  }
 },
 "nbformat": 4,
 "nbformat_minor": 5
}
